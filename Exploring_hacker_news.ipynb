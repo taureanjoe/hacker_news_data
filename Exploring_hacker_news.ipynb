{
 "cells": [
  {
   "cell_type": "markdown",
   "metadata": {
    "collapsed": true
   },
   "source": [
    "# Exploring 'Hacker News' Posts - “What time should you post to receive the highest average of comments?”\n",
    "\n",
    "In this project, we'll work a dataset of submissions to popular technology site [Hacker News](https://news.ycombinator.com/).\n",
    "\n",
    "For convenience of this practice, the data has been reduced from almost 300,000 rows to approximately 20,000 rows by removing all submissions that didn't receive any comments and then randomly sampling the remaining submissions.\n",
    "\n",
    "The full data set is available right [here](https://www.kaggle.com/hacker-news/hacker-news-posts).\n",
    "\n",
    "In our analysis we are specifically interested in posts that begin with 'Ask HN'(To ask the hacker news community about specific topics) and 'Show HN'(to show the hacker news community their projects, product or something interesting).\n",
    "\n",
    "So we will compare these two type **Ask HN** and **Show HN** to determine which one gets more reach or comments and whether the most comments are posted during a specific time of day."
   ]
  },
  {
   "cell_type": "code",
   "execution_count": 1,
   "metadata": {},
   "outputs": [],
   "source": [
    "from csv import reader \n",
    "import datetime as dt\n",
    "\n",
    "opened_file = open('hacker_news.csv')\n",
    "read_file = reader(opened_file)\n",
    "hn = list(read_file)\n",
    "\n",
    "headers = hn[:1]\n",
    "hn = hn[1:]"
   ]
  },
  {
   "cell_type": "code",
   "execution_count": 2,
   "metadata": {},
   "outputs": [
    {
     "name": "stdout",
     "output_type": "stream",
     "text": [
      "[['id', 'title', 'url', 'num_points', 'num_comments', 'author', 'created_at']] \n",
      "\n",
      "['12224879', 'Interactive Dynamic Video', 'http://www.interactivedynamicvideo.com/', '386', '52', 'ne0phyte', '8/4/2016 11:52']\n",
      "\n",
      "\n",
      "['10975351', 'How to Use Open Source and Shut the Fuck Up at the Same Time', 'http://hueniverse.com/2016/01/26/how-to-use-open-source-and-shut-the-fuck-up-at-the-same-time/', '39', '10', 'josep2', '1/26/2016 19:30']\n",
      "\n",
      "\n",
      "['11964716', \"Florida DJs May Face Felony for April Fools' Water Joke\", 'http://www.thewire.com/entertainment/2013/04/florida-djs-april-fools-water-joke/63798/', '2', '1', 'vezycash', '6/23/2016 22:20']\n",
      "\n",
      "\n",
      "['11919867', 'Technology ventures: From Idea to Enterprise', 'https://www.amazon.com/Technology-Ventures-Enterprise-Thomas-Byers/dp/0073523429', '3', '1', 'hswarna', '6/17/2016 0:01']\n",
      "\n",
      "\n",
      "['10301696', 'Note by Note: The Making of Steinway L1037 (2007)', 'http://www.nytimes.com/2007/11/07/movies/07stein.html?_r=0', '8', '2', 'walterbell', '9/30/2015 4:12']\n",
      "\n",
      "\n"
     ]
    }
   ],
   "source": [
    "#Displaying header and first 5 rows of the dataset\n",
    "print(headers,'\\n')\n",
    "\n",
    "for row in hn[:5]:\n",
    "    print(row)\n",
    "    print('\\n')"
   ]
  },
  {
   "cell_type": "markdown",
   "metadata": {},
   "source": [
    "### Extracting Ask HN and Show HN posts\n",
    "\n",
    "To find the posts that begin with either `Ask HN` or `Show HN`, we'll use the string method `startswith`. Since, `startswith` is case sensitive, here in this project we are using `lower` method, to have a control on case. "
   ]
  },
  {
   "cell_type": "code",
   "execution_count": 3,
   "metadata": {},
   "outputs": [
    {
     "name": "stdout",
     "output_type": "stream",
     "text": [
      "Number of all posts:  20100 \n",
      "\n",
      "Number of ask posts:  1744\n",
      "Number of show posts:  1162\n",
      "Number of other posts:  17194\n"
     ]
    }
   ],
   "source": [
    "ask_posts = [] # all posts relevant to Ask HN\n",
    "show_posts = []# all posts relevant to Show HN\n",
    "other_posts = []# other posts\n",
    "\n",
    "for row in hn:\n",
    "    title = row[1]\n",
    "    \n",
    "    if title.lower().startswith(\"ask hn\"):\n",
    "        ask_posts.append(row)\n",
    "        \n",
    "    elif title.lower().startswith(\"show hn\"):\n",
    "        show_posts.append(row)\n",
    "    else:\n",
    "        other_posts.append(row)\n",
    "\n",
    "print('Number of all posts: ', len(hn),'\\n')\n",
    "print('Number of ask posts: ', len(ask_posts))\n",
    "print('Number of show posts: ', len(show_posts))\n",
    "print('Number of other posts: ', len(other_posts))\n"
   ]
  },
  {
   "cell_type": "markdown",
   "metadata": {},
   "source": [
    "To verify that the list works fine, we have to take a look at the first and last two rows of each list."
   ]
  },
  {
   "cell_type": "code",
   "execution_count": 4,
   "metadata": {
    "scrolled": true
   },
   "outputs": [
    {
     "name": "stdout",
     "output_type": "stream",
     "text": [
      "Ask HN: How to improve my personal website?\n",
      "Ask HN: Why are papers still published as PDFs?\n",
      "Ask HN: Am I the only one outraged by Twitter shutting down share counts?\n",
      "Ask HN: How do you balance a serious relationship with starting a company?\n",
      "\n",
      "\n",
      "Show HN: Wio Link  ESP8266 Based Web of Things Hardware Development Platform\n",
      "Show HN: Parse recipe ingredients using JavaScript\n",
      "Show HN: Something pointless I made\n",
      "Show HN: PhantomJsCloud, Headless Browser SaaS\n"
     ]
    }
   ],
   "source": [
    "for entry in range(0,2):\n",
    "    print(ask_posts[entry][1])\n",
    "    print(ask_posts[-entry-1][1])\n",
    "\n",
    "print('\\n')\n",
    "\n",
    "for entry in range(0,2):\n",
    "    print(show_posts[entry][1])\n",
    "    print(show_posts[-entry-1][1])"
   ]
  },
  {
   "cell_type": "markdown",
   "metadata": {},
   "source": [
    "### Calculating the average number of comments for Ask HN and Show HN posts."
   ]
  },
  {
   "cell_type": "code",
   "execution_count": 5,
   "metadata": {},
   "outputs": [
    {
     "name": "stdout",
     "output_type": "stream",
     "text": [
      "Average ask posts comments:  14.04\n"
     ]
    }
   ],
   "source": [
    "#find total number for the ask_posts category\n",
    "total_ask_comments = 0\n",
    "\n",
    "for posts in ask_posts:\n",
    "    comments = int(posts[4])\n",
    "    total_ask_comments += comments\n",
    "\n",
    "#calculate the average number of comments in ask posts\n",
    "avg_ask_comments = total_ask_comments / len(ask_posts)\n",
    "print('Average ask posts comments: ','{:.2f}'.format(avg_ask_comments))"
   ]
  },
  {
   "cell_type": "code",
   "execution_count": 6,
   "metadata": {},
   "outputs": [
    {
     "name": "stdout",
     "output_type": "stream",
     "text": [
      "Average show posts comments:  10.32\n"
     ]
    }
   ],
   "source": [
    "#find total number for the show_posts category\n",
    "total_show_comments = 0\n",
    "\n",
    "for posts in show_posts:\n",
    "    comments = int(posts[4])\n",
    "    total_show_comments += comments\n",
    "\n",
    "#calculate the average number of comments in show posts\n",
    "avg_show_comments = total_show_comments / len(show_posts)\n",
    "\n",
    "print('Average show posts comments: ','{:.2f}'.format(avg_show_comments))"
   ]
  },
  {
   "cell_type": "code",
   "execution_count": 7,
   "metadata": {},
   "outputs": [
    {
     "name": "stdout",
     "output_type": "stream",
     "text": [
      "The ask sections receives 3.72 more comments.\n"
     ]
    }
   ],
   "source": [
    "#to compare the average of ask and int\n",
    "\n",
    "\n",
    "comments_diff = abs(avg_show_comments - avg_ask_comments)\n",
    "\n",
    "if avg_ask_comments > avg_show_comments:\n",
    "    print('The ask sections receives ' + '{:.2f}'.format(comments_diff) + ' more comments.')\n",
    "elif avg_show_comments > avg_ask_comments:\n",
    "    print('The show sections receives ' + '{:.2f}'.format(comments_diff) + ' more comments.')\n",
    "else:\n",
    "    print('Both the sections receives equal number of posts on average.')"
   ]
  },
  {
   "cell_type": "markdown",
   "metadata": {},
   "source": [
    "### Finding the number of Ask posts and comments by hour created.\n",
    "\n",
    "Since ask posts are more likely to receive comments, we'll focus our remaining analysis just on these posts.\n",
    "\n",
    "Next, we'll determine if ask posts created at a certain time are more likely to attract comments. We'll use the following steps to perform this analysis:\n",
    "\n",
    "1. Calculate the number of ask posts created in each hour of the day, along with the number of comments received.\n",
    "2. Calculate the average number of comments ask posts receive by hour created.\n"
   ]
  },
  {
   "cell_type": "code",
   "execution_count": 49,
   "metadata": {},
   "outputs": [],
   "source": [
    "result_list = []\n",
    "# we iterate trough each post in ask_post, then asign\n",
    "# the timestamp to created_at and the number of comments\n",
    "# to num_comments. At the end we append a list with that\n",
    "# data to the result_list\n",
    "\n",
    "for posts in ask_posts:\n",
    "    dates = posts[-1]\n",
    "    n_comm = int(posts[4])\n",
    "    result_list.append([dates, n_comm])\n",
    "\n",
    "counts_by_hour = {} # contains the number of ask posts created during each hour of the day\n",
    "comments_by_hour = {} # contains the corresponding number of comments ask posts created at each hour received\n",
    "\n",
    "for row in result_list:\n",
    "    date_str = row[0]\n",
    "    num_comments = row[1]\n",
    "    dt_object = dt.datetime.strptime(date_str, '%m/%d/%Y %H:%M') # we convert the date string to a datetime object\n",
    "    hour = dt_object.strftime('%H') # we ectract the hour (%H) from the datetime object\n",
    "    \n",
    "    # now we create a frequent table and count the hour to get\n",
    "    # the number of posts for each hour and set the comments by hour\n",
    "    # equal to the comment number to get the comments in each hour.\n",
    "    \n",
    "    if hour not in counts_by_hour:\n",
    "        counts_by_hour[hour] = 1\n",
    "        comments_by_hour[hour] = num_comments\n",
    "    else:\n",
    "        counts_by_hour[hour] += 1\n",
    "        comments_by_hour[hour] += num_comments\n",
    "        "
   ]
  },
  {
   "cell_type": "code",
   "execution_count": 43,
   "metadata": {},
   "outputs": [
    {
     "name": "stdout",
     "output_type": "stream",
     "text": [
      "Hour:  00 Posts:  55\n",
      "Hour:  01 Posts:  60\n",
      "Hour:  02 Posts:  58\n",
      "Hour:  03 Posts:  54\n",
      "Hour:  04 Posts:  47\n",
      "Hour:  05 Posts:  46\n",
      "Hour:  06 Posts:  44\n",
      "Hour:  07 Posts:  34\n",
      "Hour:  08 Posts:  48\n",
      "Hour:  09 Posts:  45\n",
      "Hour:  10 Posts:  59\n",
      "Hour:  11 Posts:  58\n",
      "Hour:  12 Posts:  73\n",
      "Hour:  13 Posts:  85\n",
      "Hour:  14 Posts:  107\n",
      "Hour:  15 Posts:  116\n",
      "Hour:  16 Posts:  108\n",
      "Hour:  17 Posts:  100\n",
      "Hour:  18 Posts:  109\n",
      "Hour:  19 Posts:  110\n",
      "Hour:  20 Posts:  80\n",
      "Hour:  21 Posts:  109\n",
      "Hour:  22 Posts:  71\n",
      "Hour:  23 Posts:  68\n"
     ]
    }
   ],
   "source": [
    "#with sorted(count_by_hour) we sort each hour from 00 to 23\n",
    "for hour in sorted(counts_by_hour):\n",
    "    print('Hour: ', hour,'Posts: ', counts_by_hour[hour])"
   ]
  },
  {
   "cell_type": "code",
   "execution_count": 57,
   "metadata": {},
   "outputs": [
    {
     "name": "stdout",
     "output_type": "stream",
     "text": [
      "By  116  posts,  15 'o clock has the highest number of posts.\n"
     ]
    }
   ],
   "source": [
    "#To get the hour with most posts\n",
    "#we iterate through counts_by_hour and\n",
    "#if a value is greater than max_by_hour \n",
    "#then we save it to max_hour\n",
    "\n",
    "max_by_hour = 0\n",
    "max_hour = []\n",
    "\n",
    "for row in counts_by_hour:\n",
    "    if counts_by_hour[row] > max_by_hour:\n",
    "        max_by_hour = counts_by_hour[row]\n",
    "        max_hour = [row, counts_by_hour[row]]\n",
    "\n",
    "print('By ',max_hour[1], ' posts, ',  max_hour[0], '\\'o clock has the highest number of posts.')"
   ]
  },
  {
   "cell_type": "code",
   "execution_count": 58,
   "metadata": {
    "scrolled": false
   },
   "outputs": [
    {
     "name": "stdout",
     "output_type": "stream",
     "text": [
      "Hour:  00 Comments:  447\n",
      "Hour:  01 Comments:  683\n",
      "Hour:  02 Comments:  1381\n",
      "Hour:  03 Comments:  421\n",
      "Hour:  04 Comments:  337\n",
      "Hour:  05 Comments:  464\n",
      "Hour:  06 Comments:  397\n",
      "Hour:  07 Comments:  267\n",
      "Hour:  08 Comments:  492\n",
      "Hour:  09 Comments:  251\n",
      "Hour:  10 Comments:  793\n",
      "Hour:  11 Comments:  641\n",
      "Hour:  12 Comments:  687\n",
      "Hour:  13 Comments:  1253\n",
      "Hour:  14 Comments:  1416\n",
      "Hour:  15 Comments:  4477\n",
      "Hour:  16 Comments:  1814\n",
      "Hour:  17 Comments:  1146\n",
      "Hour:  18 Comments:  1439\n",
      "Hour:  19 Comments:  1188\n",
      "Hour:  20 Comments:  1722\n",
      "Hour:  21 Comments:  1745\n",
      "Hour:  22 Comments:  479\n",
      "Hour:  23 Comments:  543\n"
     ]
    }
   ],
   "source": [
    "#with sorted(comments_by_hour) we sort each hour from 00 to 23\n",
    "for hour in sorted(comments_by_hour):\n",
    "    print('Hour: ', hour,'Comments: ', comments_by_hour[hour])"
   ]
  },
  {
   "cell_type": "code",
   "execution_count": 61,
   "metadata": {},
   "outputs": [
    {
     "name": "stdout",
     "output_type": "stream",
     "text": [
      "By  4477  comments,  15 'o clock has the highest number of comments.\n"
     ]
    }
   ],
   "source": [
    "#To get the hour with most comments\n",
    "#we iterate through comments_by_hour and\n",
    "#if a value is greater than max_by_hour \n",
    "#then we save it to max_hour\n",
    "\n",
    "max_by_comments = 0\n",
    "max_comments = []\n",
    "\n",
    "for row in comments_by_hour:\n",
    "    if comments_by_hour[row] > max_by_comments:\n",
    "        max_by_comments = comments_by_hour[row]\n",
    "        max_comments = [row, comments_by_hour[row]]\n",
    "\n",
    "print('By ',max_comments[1], ' comments, ',  max_comments[0], '\\'o clock has the highest number of comments.')"
   ]
  },
  {
   "cell_type": "code",
   "execution_count": 62,
   "metadata": {},
   "outputs": [
    {
     "name": "stdout",
     "output_type": "stream",
     "text": [
      "['00', 8.127272727272727]\n",
      "['01', 11.383333333333333]\n",
      "['02', 23.810344827586206]\n",
      "['03', 7.796296296296297]\n",
      "['04', 7.170212765957447]\n",
      "['05', 10.08695652173913]\n",
      "['06', 9.022727272727273]\n",
      "['07', 7.852941176470588]\n",
      "['08', 10.25]\n",
      "['09', 5.5777777777777775]\n",
      "['10', 13.440677966101696]\n",
      "['11', 11.051724137931034]\n",
      "['12', 9.41095890410959]\n",
      "['13', 14.741176470588234]\n",
      "['14', 13.233644859813085]\n",
      "['15', 38.5948275862069]\n",
      "['16', 16.796296296296298]\n",
      "['17', 11.46]\n",
      "['18', 13.20183486238532]\n",
      "['19', 10.8]\n",
      "['20', 21.525]\n",
      "['21', 16.009174311926607]\n",
      "['22', 6.746478873239437]\n",
      "['23', 7.985294117647059]\n"
     ]
    }
   ],
   "source": [
    "#calculating average number of comments for posts during each hour\n",
    "\n",
    "avg_by_hour = []\n",
    "\n",
    "for count in comments_by_hour:\n",
    "    \n",
    "    avg_by_hour.append([count, comments_by_hour[count] / counts_by_hour[count]])\n",
    "    \n",
    "#with sorted, display the output for better readability\n",
    "\n",
    "for row in sorted(avg_by_hour):\n",
    "    print(row)\n",
    "   "
   ]
  },
  {
   "cell_type": "code",
   "execution_count": 78,
   "metadata": {},
   "outputs": [
    {
     "name": "stdout",
     "output_type": "stream",
     "text": [
      "Most number of comments where obsevered during:\n",
      "15:00: 38.59 comments per post\n",
      "02:00: 23.81 comments per post\n",
      "20:00: 21.52 comments per post\n",
      "16:00: 16.80 comments per post\n",
      "21:00: 16.01 comments per post\n"
     ]
    }
   ],
   "source": [
    "#Let's swap the places of avg_by_hour\n",
    "#to sort the data at more convenience\n",
    "swap_avg_by_hour = []\n",
    "for row in avg_by_hour:\n",
    "    swap_avg_by_hour.append([row[1], row[0]])\n",
    "    \n",
    "print('Most number of comments where obsevered during:')\n",
    "sorted_swap = sorted(swap_avg_by_hour, reverse = True)\n",
    "    \n",
    "for average, hr in sorted_swap[:5]: \n",
    "    hour = dt.datetime.strptime(hr,'%H')#convert the string to a datetime object\n",
    "    time = hour.strftime('%H:%M')#format the datetime object\n",
    "    print('{time}: {average:.2f} comments per post'.format(time = time, average = average))\n",
    "    "
   ]
  },
  {
   "cell_type": "markdown",
   "metadata": {},
   "source": [
    "The best time to get maximum reach in Hacker News is to create a post at 15:00. The time in this data set is Eastern Standard Time. Therefore, 10.5 hours  should be added to it in order to convert it into Indian Standard Time."
   ]
  },
  {
   "cell_type": "code",
   "execution_count": 80,
   "metadata": {
    "scrolled": true
   },
   "outputs": [
    {
     "name": "stdout",
     "output_type": "stream",
     "text": [
      "Top 5 hours in IST for Ask Posts comments:\n",
      "01:30: 38.59 comments per post\n",
      "12:30: 23.81 comments per post\n",
      "06:30: 21.52 comments per post\n",
      "02:30: 16.80 comments per post\n",
      "07:30: 16.01 comments per post\n"
     ]
    }
   ],
   "source": [
    "print('Top 5 hours in IST for Ask Posts comments:')\n",
    "\n",
    "for average, hr in sorted_swap[:5]: \n",
    "    hour = dt.datetime.strptime(hr,'%H')\n",
    "    ist = hour + dt.timedelta(hours = 10.5)\n",
    "    time = ist.strftime('%H:%M')\n",
    "    print('{time}: {average:.2f} comments per post'.format(time = time, average = average))\n",
    "    "
   ]
  },
  {
   "cell_type": "markdown",
   "metadata": {},
   "source": [
    "### Calculating the average number of points for Ask HN and Show HN posts."
   ]
  },
  {
   "cell_type": "code",
   "execution_count": 83,
   "metadata": {},
   "outputs": [
    {
     "name": "stdout",
     "output_type": "stream",
     "text": [
      "Average number of points per posts in Ask HN are:  15.06\n"
     ]
    }
   ],
   "source": [
    "total_ask_points = 0\n",
    "\n",
    "for row in ask_posts:\n",
    "    n_points = row[3]\n",
    "    total_ask_points += int(n_points)\n",
    "\n",
    "avg_ask_points = total_ask_points / len(ask_posts)\n",
    "\n",
    "print('Average number of points per posts in Ask HN are: ','{:.2f}'.format(avg_ask_points))\n"
   ]
  },
  {
   "cell_type": "code",
   "execution_count": 85,
   "metadata": {},
   "outputs": [
    {
     "name": "stdout",
     "output_type": "stream",
     "text": [
      "Average number of points per posts in Show HN are:  27.56\n"
     ]
    }
   ],
   "source": [
    "total_show_points = 0\n",
    "\n",
    "for row in show_posts:\n",
    "    n_points = row[3]\n",
    "    total_show_points += int(n_points)\n",
    "    \n",
    "avg_show_points = total_show_points / len(show_posts)\n",
    "\n",
    "print('Average number of points per posts in Show HN are: ','{:.2f}'.format(avg_show_points))\n"
   ]
  },
  {
   "cell_type": "code",
   "execution_count": 89,
   "metadata": {},
   "outputs": [
    {
     "name": "stdout",
     "output_type": "stream",
     "text": [
      "The Show section receives  12.49 more points than the other.\n"
     ]
    }
   ],
   "source": [
    "#comparing the averages of both Ask and Show sections\n",
    "\n",
    "point_diff = abs(avg_ask_points - avg_show_points)\n",
    "\n",
    "if avg_show_points > avg_ask_points:\n",
    "    print('The Show section receives ', '{:.2f}'.format(point_diff), 'more points than the other.')\n",
    "elif avg_ask_points > avg_show_points:\n",
    "    print('The Ask section receives ', '{:.2f}'.format(point_diff), 'more points than the other.')"
   ]
  },
  {
   "cell_type": "markdown",
   "metadata": {},
   "source": [
    "### Finding the number of Show posts points by the  hour it was created.\n",
    "\n",
    "Since show posts are more likely to receive points, we'll focus our remaining analysis just on these posts as per the same steps followed in analysing the number of comments.\n"
   ]
  },
  {
   "cell_type": "code",
   "execution_count": 101,
   "metadata": {},
   "outputs": [],
   "source": [
    "result_list = [] #A list of lists which holds relevant columns from the dataset for our analysis\n",
    "\n",
    "for row in show_posts:\n",
    "    dates = row[-1]\n",
    "    n_points = int(row[3])\n",
    "    result_list.append([dates, n_points])\n",
    "    \n",
    "posts_by_hour = {}\n",
    "points_by_hour = {}\n",
    "\n",
    "for row in result_list:\n",
    "    hr = row[0]\n",
    "    n_points = row[1]\n",
    "    time = dt.datetime.strptime(hr,'%m/%d/%Y %H:%M')\n",
    "    hr = time.strftime('%H')\n",
    "    \n",
    "    if hr not in posts_by_hour:\n",
    "        posts_by_hour[hr] = 1\n",
    "        points_by_hour[hr] = 1\n",
    "    else:\n",
    "        posts_by_hour[hr] += 1\n",
    "        points_by_hour[hr] += n_points\n",
    "        "
   ]
  },
  {
   "cell_type": "code",
   "execution_count": 102,
   "metadata": {},
   "outputs": [
    {
     "name": "stdout",
     "output_type": "stream",
     "text": [
      "Hour:  00  Posts:  31\n",
      "Hour:  01  Posts:  28\n",
      "Hour:  02  Posts:  30\n",
      "Hour:  03  Posts:  27\n",
      "Hour:  04  Posts:  26\n",
      "Hour:  05  Posts:  19\n",
      "Hour:  06  Posts:  16\n",
      "Hour:  07  Posts:  26\n",
      "Hour:  08  Posts:  34\n",
      "Hour:  09  Posts:  30\n",
      "Hour:  10  Posts:  36\n",
      "Hour:  11  Posts:  44\n",
      "Hour:  12  Posts:  61\n",
      "Hour:  13  Posts:  99\n",
      "Hour:  14  Posts:  86\n",
      "Hour:  15  Posts:  78\n",
      "Hour:  16  Posts:  93\n",
      "Hour:  17  Posts:  93\n",
      "Hour:  18  Posts:  61\n",
      "Hour:  19  Posts:  55\n",
      "Hour:  20  Posts:  60\n",
      "Hour:  21  Posts:  47\n",
      "Hour:  22  Posts:  46\n",
      "Hour:  23  Posts:  36\n"
     ]
    }
   ],
   "source": [
    "for hour in sorted(posts_by_hour):\n",
    "    print('Hour: ',hour,' Posts: ', posts_by_hour[hour])"
   ]
  },
  {
   "cell_type": "code",
   "execution_count": 110,
   "metadata": {},
   "outputs": [
    {
     "name": "stdout",
     "output_type": "stream",
     "text": [
      "By 99 posts, 13 'o clock has the highest number of posts.\n"
     ]
    }
   ],
   "source": [
    "max_by_hour = 0\n",
    "max_posts = []\n",
    "\n",
    "for hour in posts_by_hour:\n",
    "    if posts_by_hour[hour] > max_by_hour:\n",
    "        max_by_hour = posts_by_hour[hour]\n",
    "        max_posts = [hour, posts_by_hour[hour]]\n",
    "        \n",
    "print('By',max_posts[1] ,'posts,', max_posts[0],'\\'o clock has the highest number of posts.')"
   ]
  },
  {
   "cell_type": "code",
   "execution_count": 114,
   "metadata": {
    "scrolled": false
   },
   "outputs": [
    {
     "name": "stdout",
     "output_type": "stream",
     "text": [
      "Hour:  00  Points:  1165\n",
      "Hour:  01  Points:  692\n",
      "Hour:  02  Points:  337\n",
      "Hour:  03  Points:  672\n",
      "Hour:  04  Points:  374\n",
      "Hour:  05  Points:  102\n",
      "Hour:  06  Points:  372\n",
      "Hour:  07  Points:  492\n",
      "Hour:  08  Points:  515\n",
      "Hour:  09  Points:  545\n",
      "Hour:  10  Points:  680\n",
      "Hour:  11  Points:  1479\n",
      "Hour:  12  Points:  2537\n",
      "Hour:  13  Points:  2438\n",
      "Hour:  14  Points:  2162\n",
      "Hour:  15  Points:  2186\n",
      "Hour:  16  Points:  2627\n",
      "Hour:  17  Points:  2517\n",
      "Hour:  18  Points:  2215\n",
      "Hour:  19  Points:  1697\n",
      "Hour:  20  Points:  1819\n",
      "Hour:  21  Points:  862\n",
      "Hour:  22  Points:  1110\n",
      "Hour:  23  Points:  1518\n",
      "By 2627 posts, 16 'o clock has the highest number of posts.\n"
     ]
    }
   ],
   "source": [
    "for hour in sorted(points_by_hour):\n",
    "    print('Hour: ',hour,' Points: ', points_by_hour[hour])\n",
    "    \n",
    "max_by_hour = 0\n",
    "max_posts = []\n",
    "\n",
    "for hour in points_by_hour:\n",
    "    if points_by_hour[hour] > max_by_hour:\n",
    "        max_by_hour = points_by_hour[hour]\n",
    "        max_posts = [hour, points_by_hour[hour]]\n",
    "        \n",
    "print('By',max_posts[1] ,'posts,', max_posts[0],'\\'o clock has the highest number of posts.')"
   ]
  },
  {
   "cell_type": "code",
   "execution_count": 126,
   "metadata": {},
   "outputs": [
    {
     "name": "stdout",
     "output_type": "stream",
     "text": [
      "Top 5 time to post in Show HN in IST:\n",
      "09:18: 42.17 points per posts\n",
      "22:18: 41.59 points per posts\n",
      "10:18: 37.58 points per posts\n",
      "04:18: 36.31 points per posts\n",
      "21:18: 33.61 points per posts\n"
     ]
    }
   ],
   "source": [
    "avg_by_hour = []\n",
    "\n",
    "for hour in posts_by_hour:\n",
    "    avg_by_hour.append([points_by_hour[hour] / posts_by_hour[hour], hour])\n",
    "    \n",
    "sorted_avg_by_hour = sorted(avg_by_hour, reverse = True)\n",
    "print('Top 5 time to post in Show HN in IST:')\n",
    "for average, hr in sorted_avg_by_hour[:5]:\n",
    "    hour = dt.datetime.strptime(hr, '%H')\n",
    "    ist = hour + dt.timedelta(hours = 10.3)\n",
    "    hr = ist.strftime('%H:%M')\n",
    "    print('{time}: {average:.2f} points per posts'.format(time=hr, average = average))"
   ]
  },
  {
   "cell_type": "markdown",
   "metadata": {},
   "source": [
    "In our analysis we found that most number of comments are posted in Ask HN section whereas the most number of points are awarded in Show HN section. So it is clear that most number of comments will be going to Ask HN as it is the best way to clear doubts or queries. Show HN received lesser number of comments but a higher number of points.\n",
    "\n",
    "\n",
    "In order for our articles to receives higher number of comments it is ideal to make that post between **12:30 am** and **1:30 am** IST. \n",
    "\n",
    "The time period seems to vary in case of Show HN section as this section will be more dependant on the content. But, in order to receive high responses it's better to post during the day time rather than during night. Another interesting fact observed is that most points were given during a an hour in the morning and an hour in the night. Which means that people tend to skim through the show section in the morning and before going to bed. So a quality post during this time will attact more viewers.\n",
    "\n",
    "-\n",
    "\n",
    "Even though this analysis has now given us an estimate of when it is worth writing an article, it doesn't mean that we will always get the most comments if we publish at that time. So, of course, the content of the article still plays a key role."
   ]
  }
 ],
 "metadata": {
  "kernelspec": {
   "display_name": "Python 3",
   "language": "python",
   "name": "python3"
  },
  "language_info": {
   "codemirror_mode": {
    "name": "ipython",
    "version": 3
   },
   "file_extension": ".py",
   "mimetype": "text/x-python",
   "name": "python",
   "nbconvert_exporter": "python",
   "pygments_lexer": "ipython3",
   "version": "3.8.2"
  }
 },
 "nbformat": 4,
 "nbformat_minor": 2
}
